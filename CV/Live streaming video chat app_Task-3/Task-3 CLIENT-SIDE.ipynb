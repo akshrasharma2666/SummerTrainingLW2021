{
 "cells": [
  {
   "cell_type": "code",
   "execution_count": 1,
   "metadata": {
    "collapsed": false
   },
   "outputs": [
    {
     "name": "stderr",
     "output_type": "stream",
     "text": [
      "Exception in thread Thread-7:\n",
      "Traceback (most recent call last):\n",
      "  File \"C:\\Users\\lalita\\Anaconda3\\lib\\threading.py\", line 916, in _bootstrap_inner\n",
      "    self.run()\n",
      "  File \"C:\\Users\\lalita\\Anaconda3\\lib\\threading.py\", line 864, in run\n",
      "    self._target(*self._args, **self._kwargs)\n",
      "  File \"<ipython-input-1-aed77c70089c>\", line 44, in sending_client\n",
      "    frame = imutils.resize(frame,width=520)\n",
      "  File \"C:\\Users\\lalita\\Anaconda3\\lib\\site-packages\\imutils\\convenience.py\", line 69, in resize\n",
      "    (h, w) = image.shape[:2]\n",
      "AttributeError: 'NoneType' object has no attribute 'shape'\n",
      "\n",
      "Exception in thread Thread-6:\n",
      "Traceback (most recent call last):\n",
      "  File \"C:\\Users\\lalita\\Anaconda3\\lib\\threading.py\", line 916, in _bootstrap_inner\n",
      "    self.run()\n",
      "  File \"C:\\Users\\lalita\\Anaconda3\\lib\\threading.py\", line 864, in run\n",
      "    self._target(*self._args, **self._kwargs)\n",
      "  File \"<ipython-input-1-aed77c70089c>\", line 18, in receving_from_server\n",
      "    packet = client_socket.recv(4*1024) # 4K\n",
      "ConnectionResetError: [WinError 10054] An existing connection was forcibly closed by the remote host\n",
      "\n"
     ]
    }
   ],
   "source": [
    "# lets make the client code\n",
    "import socket,cv2, pickle,struct,threading,imutils\n",
    "\n",
    "# create socket\n",
    "client_socket = socket.socket(socket.AF_INET,socket.SOCK_STREAM)\n",
    "client_socket.setsockopt(socket.SOL_SOCKET , socket.SO_REUSEADDR, 1)\n",
    "\n",
    "host_ip = '192.168.1.17' # paste your server ip address here\n",
    "port = 1234\n",
    "client_socket.connect((host_ip,port)) # a tuple\n",
    "\n",
    "\n",
    "def receving_from_server():\n",
    "    data = b\"\"\n",
    "    payload_size = struct.calcsize(\"Q\")\n",
    "    while True:\n",
    "        while len(data) < payload_size:\n",
    "            packet = client_socket.recv(4*1024) # 4K\n",
    "            if not packet: break\n",
    "            data+=packet\n",
    "        packed_msg_size = data[:payload_size]\n",
    "        data = data[payload_size:]\n",
    "        msg_size = struct.unpack(\"Q\",packed_msg_size)[0]\n",
    "\n",
    "        while len(data) < msg_size:\n",
    "            data += client_socket.recv(4*1024)\n",
    "        frame_data = data[:msg_size]\n",
    "        data  = data[msg_size:]\n",
    "        frame = pickle.loads(frame_data)\n",
    "        cv2.imshow(\"Server to Client VIDEO\",frame)\n",
    "        key = cv2.waitKey(1) & 0xFF\n",
    "        if key  == 13:\n",
    "            client_socket.close()\n",
    "            break\n",
    "    cv2.destroyAllWindows()\n",
    "    \n",
    "def sending_client():\n",
    "    if client_socket:\n",
    "        vid = cv2.VideoCapture(\"http://192.168.1.5:8080/video\")\n",
    "        \n",
    "        while(vid.isOpened()):\n",
    "            try:\n",
    "                img,frame = vid.read()\n",
    "                frame = imutils.resize(frame,width=520)\n",
    "                a = pickle.dumps(frame)\n",
    "                message = struct.pack(\"Q\",len(a))+a\n",
    "                client_socket.sendall(message)\n",
    "            except ConnectionAbortedError:\n",
    "                vid.release()\n",
    "                client_socket.close()\n",
    "                break\n",
    "                \n",
    "t1 = threading.Thread(target=receving_from_server)\n",
    "t1.start()\n",
    "t2 = threading.Thread(target=sending_client)\n",
    "t2.start()"
   ]
  },
  {
   "cell_type": "code",
   "execution_count": null,
   "metadata": {
    "collapsed": true
   },
   "outputs": [],
   "source": []
  }
 ],
 "metadata": {
  "kernelspec": {
   "display_name": "Python 3",
   "language": "python",
   "name": "python3"
  },
  "language_info": {
   "codemirror_mode": {
    "name": "ipython",
    "version": 3
   },
   "file_extension": ".py",
   "mimetype": "text/x-python",
   "name": "python",
   "nbconvert_exporter": "python",
   "pygments_lexer": "ipython3",
   "version": "3.6.0"
  }
 },
 "nbformat": 4,
 "nbformat_minor": 2
}
